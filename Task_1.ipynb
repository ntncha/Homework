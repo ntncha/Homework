version https://git-lfs.github.com/spec/v1
oid sha256:c91cf69ba35352b846ce6a1b6f93ad5b359ae842943b87131e9e35c4640d14cb
size 34610
