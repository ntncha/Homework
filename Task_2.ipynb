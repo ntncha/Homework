version https://git-lfs.github.com/spec/v1
oid sha256:39e2bda0949b2360a3677f36704d651ff4aab8df04e28f445917d87b0a1a43de
size 128552
